{
 "cells": [
  {
   "cell_type": "markdown",
   "metadata": {},
   "source": [
    "## Proyecto 1\n",
    "\n",
    "El objetivo de este proyecto es crear modelos predictivos de regresion lineal univariable de la forma y= Bo+B1*x\n",
    "En donde y es la variable independiente\n",
    "x es la variable dependiente\n",
    "Beta cero es el intercepto de la recta\n",
    "Beta uno es la pendiente de la recta. \n"
   ]
  },
  {
   "cell_type": "markdown",
   "metadata": {},
   "source": [
    "# Paso 1. Se cargan las librerías a utilizar en este proyecto."
   ]
  },
  {
   "cell_type": "code",
   "execution_count": 1,
   "metadata": {},
   "outputs": [],
   "source": [
    "\n",
    "import pandas as pd\n",
    "import numpy as np\n",
    "import matplotlib.pyplot as plt\n",
    "from sklearn.model_selection import train_test_split\n",
    "from sklearn.impute import SimpleImputer\n",
    "import seaborn as sns\n",
    "\n"
   ]
  },
  {
   "cell_type": "markdown",
   "metadata": {},
   "source": [
    "# Paso 2. Carga de la Data"
   ]
  },
  {
   "cell_type": "code",
   "execution_count": 2,
   "metadata": {},
   "outputs": [],
   "source": [
    "\n",
    "data= np.load('proyecto_training_data.npy')\n"
   ]
  },
  {
   "cell_type": "code",
   "execution_count": 3,
   "metadata": {},
   "outputs": [],
   "source": [
    "dataset = pd.DataFrame (data, \n",
    "            columns=['SalePrice', 'OverallQual', '1stFlrSF', 'TotRmsAbvGrd', 'YearBuilt', 'LotFrontage'])"
   ]
  },
  {
   "cell_type": "code",
   "execution_count": 4,
   "metadata": {},
   "outputs": [
    {
     "data": {
      "text/html": [
       "<div>\n",
       "<style scoped>\n",
       "    .dataframe tbody tr th:only-of-type {\n",
       "        vertical-align: middle;\n",
       "    }\n",
       "\n",
       "    .dataframe tbody tr th {\n",
       "        vertical-align: top;\n",
       "    }\n",
       "\n",
       "    .dataframe thead th {\n",
       "        text-align: right;\n",
       "    }\n",
       "</style>\n",
       "<table border=\"1\" class=\"dataframe\">\n",
       "  <thead>\n",
       "    <tr style=\"text-align: right;\">\n",
       "      <th></th>\n",
       "      <th>SalePrice</th>\n",
       "      <th>OverallQual</th>\n",
       "      <th>1stFlrSF</th>\n",
       "      <th>TotRmsAbvGrd</th>\n",
       "      <th>YearBuilt</th>\n",
       "      <th>LotFrontage</th>\n",
       "    </tr>\n",
       "  </thead>\n",
       "  <tbody>\n",
       "    <tr>\n",
       "      <th>0</th>\n",
       "      <td>208500.0</td>\n",
       "      <td>7.0</td>\n",
       "      <td>856.0</td>\n",
       "      <td>8.0</td>\n",
       "      <td>2003.0</td>\n",
       "      <td>65.0</td>\n",
       "    </tr>\n",
       "    <tr>\n",
       "      <th>1</th>\n",
       "      <td>181500.0</td>\n",
       "      <td>6.0</td>\n",
       "      <td>1262.0</td>\n",
       "      <td>6.0</td>\n",
       "      <td>1976.0</td>\n",
       "      <td>80.0</td>\n",
       "    </tr>\n",
       "    <tr>\n",
       "      <th>2</th>\n",
       "      <td>223500.0</td>\n",
       "      <td>7.0</td>\n",
       "      <td>920.0</td>\n",
       "      <td>6.0</td>\n",
       "      <td>2001.0</td>\n",
       "      <td>68.0</td>\n",
       "    </tr>\n",
       "    <tr>\n",
       "      <th>3</th>\n",
       "      <td>140000.0</td>\n",
       "      <td>7.0</td>\n",
       "      <td>961.0</td>\n",
       "      <td>7.0</td>\n",
       "      <td>1915.0</td>\n",
       "      <td>60.0</td>\n",
       "    </tr>\n",
       "    <tr>\n",
       "      <th>4</th>\n",
       "      <td>250000.0</td>\n",
       "      <td>8.0</td>\n",
       "      <td>1145.0</td>\n",
       "      <td>9.0</td>\n",
       "      <td>2000.0</td>\n",
       "      <td>84.0</td>\n",
       "    </tr>\n",
       "  </tbody>\n",
       "</table>\n",
       "</div>"
      ],
      "text/plain": [
       "   SalePrice  OverallQual  1stFlrSF  TotRmsAbvGrd  YearBuilt  LotFrontage\n",
       "0   208500.0          7.0     856.0           8.0     2003.0         65.0\n",
       "1   181500.0          6.0    1262.0           6.0     1976.0         80.0\n",
       "2   223500.0          7.0     920.0           6.0     2001.0         68.0\n",
       "3   140000.0          7.0     961.0           7.0     1915.0         60.0\n",
       "4   250000.0          8.0    1145.0           9.0     2000.0         84.0"
      ]
     },
     "execution_count": 4,
     "metadata": {},
     "output_type": "execute_result"
    }
   ],
   "source": [
    "#Visualizacion de la data\n",
    "dataset.head()"
   ]
  },
  {
   "cell_type": "markdown",
   "metadata": {},
   "source": [
    "# Paso 3 Data Imputation \n",
    "En ingeniería de Características existen varios criterios para el tratamiento de los datos faltantes, está la eliminación arbitraria \"Complete Case Analysis\" pero este criterio tiene el inconveniente que se podría eliminar datos importantes que podrían crear un sesgo en el modelo. \n",
    "También podemos encontrar el criterio de imputación de la Media y la Mediana, el cual se considera más acertado ya que no elimina datos. Aunque también podría conducir a sesgo o error al modelo, no obstante las observaciones faltantes podrían limitar la predicción de datos en el modelo. Se van a probar los criterios de asignar arbitrariamente el máximo valor de la columna de datos faltantes, también se va probar asignar la media y la mediana, finalmente se van a comparar los resultados para tomar la mejor decisión."
   ]
  },
  {
   "cell_type": "markdown",
   "metadata": {},
   "source": [
    "3.1 Revisamos que columnas de nuestro data set tienen datos nulos o faltantes"
   ]
  },
  {
   "cell_type": "code",
   "execution_count": 5,
   "metadata": {},
   "outputs": [],
   "source": [
    "dataset_IA= dataset"
   ]
  },
  {
   "cell_type": "code",
   "execution_count": 6,
   "metadata": {},
   "outputs": [],
   "source": [
    "def getNanColNames(df):\n",
    "    colnames = df.columns\n",
    "    cols_con_na = []\n",
    "    for col in colnames:\n",
    "        if(df[col].isnull().sum() > 0):\n",
    "            cols_con_na.append(col)\n",
    "    return cols_con_na"
   ]
  },
  {
   "cell_type": "code",
   "execution_count": 7,
   "metadata": {},
   "outputs": [
    {
     "data": {
      "text/plain": [
       "['LotFrontage']"
      ]
     },
     "execution_count": 7,
     "metadata": {},
     "output_type": "execute_result"
    }
   ],
   "source": [
    "cols_con_nan = getNanColNames(dataset_IA)\n",
    "cols_con_nan"
   ]
  },
  {
   "cell_type": "code",
   "execution_count": 8,
   "metadata": {},
   "outputs": [
    {
     "data": {
      "text/plain": [
       "LotFrontage    float64\n",
       "dtype: object"
      ]
     },
     "execution_count": 8,
     "metadata": {},
     "output_type": "execute_result"
    }
   ],
   "source": [
    "dataset_IA[cols_con_nan].dtypes"
   ]
  },
  {
   "cell_type": "code",
   "execution_count": 9,
   "metadata": {},
   "outputs": [
    {
     "data": {
      "text/plain": [
       "LotFrontage    0.177397\n",
       "dtype: float64"
      ]
     },
     "execution_count": 9,
     "metadata": {},
     "output_type": "execute_result"
    }
   ],
   "source": [
    "dataset_IA[cols_con_nan].isnull().mean()"
   ]
  },
  {
   "cell_type": "code",
   "execution_count": 10,
   "metadata": {},
   "outputs": [],
   "source": [
    "def getNanGoodColsNames(df, rate = 0.2):\n",
    "    cols_procesables = []\n",
    "    for col in df.columns:\n",
    "        if((df[col].isnull().mean() < rate)):\n",
    "            cols_procesables.append(col)\n",
    "    return cols_procesables"
   ]
  },
  {
   "cell_type": "code",
   "execution_count": 11,
   "metadata": {},
   "outputs": [],
   "source": [
    "cols_to_use = ['SalePrice', 'OverallQual', '1stFlrSF', 'TotRmsAbvGrd', 'YearBuilt', 'LotFrontage']"
   ]
  },
  {
   "cell_type": "markdown",
   "metadata": {},
   "source": [
    "3.2 Criterio CCA - Asignación Arbitraria del Valor mayor y menor "
   ]
  },
  {
   "cell_type": "code",
   "execution_count": 12,
   "metadata": {},
   "outputs": [
    {
     "data": {
      "text/plain": [
       "count    1201.000000\n",
       "mean       70.049958\n",
       "std        24.284752\n",
       "min        21.000000\n",
       "25%        59.000000\n",
       "50%        69.000000\n",
       "75%        80.000000\n",
       "max       313.000000\n",
       "Name: LotFrontage, dtype: float64"
      ]
     },
     "execution_count": 12,
     "metadata": {},
     "output_type": "execute_result"
    }
   ],
   "source": [
    "#Determinamos el máximo y mínimo valor de los datos\n",
    "dataset_IA['LotFrontage'].describe()"
   ]
  },
  {
   "cell_type": "code",
   "execution_count": 13,
   "metadata": {},
   "outputs": [],
   "source": [
    "#Imputamos los valores máximos y mínimos a los campos faltantes\n",
    "dataset_IA1= dataset_IA\n",
    "dataset_IA1['LotFrontage_313']= dataset_IA1['LotFrontage'].fillna(313)\n",
    "dataset_IA1['LotFrontage_21']= dataset_IA1['LotFrontage'].fillna(21)"
   ]
  },
  {
   "cell_type": "code",
   "execution_count": 14,
   "metadata": {},
   "outputs": [
    {
     "name": "stdout",
     "output_type": "stream",
     "text": [
      "Varianza_original: 589.7491687482642\n",
      "Varianza_313: 9104.289751377877\n",
      "Varianza_21: 836.384885031027\n"
     ]
    }
   ],
   "source": [
    "print(\"Varianza_original:\", dataset_IA1['LotFrontage'].var())\n",
    "print(\"Varianza_313:\", dataset_IA1['LotFrontage_313'].var())\n",
    "print(\"Varianza_21:\", dataset_IA1['LotFrontage_21'].var())"
   ]
  },
  {
   "cell_type": "code",
   "execution_count": 15,
   "metadata": {},
   "outputs": [
    {
     "data": {
      "image/png": "[encoded data removed]",
      "text/plain": [
       "<Figure size 432x288 with 1 Axes>"
      ]
     },
     "metadata": {
      "needs_background": "light"
     },
     "output_type": "display_data"
    }
   ],
   "source": [
    "#Grafica\n",
    "fig= plt.figure()\n",
    "ax= fig.add_subplot(111)\n",
    "\n",
    "dataset_IA1['LotFrontage'].plot.density(color=\"green\", label=\"Original\")\n",
    "dataset_IA1['LotFrontage_313'].plot.density(color=\"blue\", label=\"313\")\n",
    "dataset_IA1['LotFrontage_21'].plot.density(color=\"orange\", label=\"21\")\n",
    "plt.show()"
   ]
  },
  {
   "cell_type": "markdown",
   "metadata": {},
   "source": [
    "#Imputación de la Media y la Mediana"
   ]
  },
  {
   "cell_type": "code",
   "execution_count": 16,
   "metadata": {},
   "outputs": [
    {
     "data": {
      "text/plain": [
       "70.0"
      ]
     },
     "execution_count": 16,
     "metadata": {},
     "output_type": "execute_result"
    }
   ],
   "source": [
    "#Calculo  de la Media\n",
    "meanValue = np.round(dataset_IA['LotFrontage'].mean(), 0)\n",
    "meanValue"
   ]
  },
  {
   "cell_type": "code",
   "execution_count": 17,
   "metadata": {},
   "outputs": [
    {
     "data": {
      "text/plain": [
       "69.0"
      ]
     },
     "execution_count": 17,
     "metadata": {},
     "output_type": "execute_result"
    }
   ],
   "source": [
    "#Calculo  de la Mediana\n",
    "medianValue= np.round(dataset_IA['LotFrontage'].median(), 0)\n",
    "medianValue"
   ]
  },
  {
   "cell_type": "code",
   "execution_count": 18,
   "metadata": {},
   "outputs": [],
   "source": [
    "dataset_meanImp = dataset_IA1['LotFrontage'].fillna(meanValue)"
   ]
  },
  {
   "cell_type": "code",
   "execution_count": 19,
   "metadata": {},
   "outputs": [],
   "source": [
    "dataset_medianImp = dataset_IA1['LotFrontage'].fillna(medianValue)"
   ]
  },
  {
   "cell_type": "code",
   "execution_count": 20,
   "metadata": {},
   "outputs": [
    {
     "data": {
      "image/png": "[encoded data removed]",
      "text/plain": [
       "<Figure size 432x288 with 1 Axes>"
      ]
     },
     "metadata": {
      "needs_background": "light"
     },
     "output_type": "display_data"
    }
   ],
   "source": [
    "#Grafica\n",
    "fig= plt.figure()\n",
    "ax= fig.add_subplot(111)\n",
    "\n",
    "dataset_meanImp.plot.density(color=\"red\", label=\"Mean\")\n",
    "dataset_medianImp.plot.density(color=\"green\", label=\"Median\")\n",
    "dataset_IA['LotFrontage'].plot.density(color=\"blue\", label=\"Original\")\n",
    "plt.show()"
   ]
  },
  {
   "cell_type": "code",
   "execution_count": 21,
   "metadata": {},
   "outputs": [
    {
     "data": {
      "text/plain": [
       "0.33489718326981494"
      ]
     },
     "execution_count": 21,
     "metadata": {},
     "output_type": "execute_result"
    }
   ],
   "source": [
    "np.corrcoef(dataset_meanImp, dataset['SalePrice'])[0,1]"
   ]
  },
  {
   "cell_type": "code",
   "execution_count": 22,
   "metadata": {},
   "outputs": [
    {
     "data": {
      "text/plain": [
       "0.33477085313975996"
      ]
     },
     "execution_count": 22,
     "metadata": {},
     "output_type": "execute_result"
    }
   ],
   "source": [
    "np.corrcoef(dataset_medianImp, dataset['SalePrice'])[0,1]"
   ]
  },
  {
   "cell_type": "markdown",
   "metadata": {},
   "source": [
    "Como se pudo observar en las gráficas, la distribución que se apega más a los datos originales es la imputación de la media o la mediana, en este caso se decidió llenar los datos faltantes con el valor de la mediana."
   ]
  },
  {
   "cell_type": "code",
   "execution_count": 23,
   "metadata": {},
   "outputs": [],
   "source": [
    "imputer = SimpleImputer(strategy = 'median', missing_values= np.nan)\n",
    "imputer= imputer.fit(dataset_IA[cols_to_use])"
   ]
  },
  {
   "cell_type": "code",
   "execution_count": 24,
   "metadata": {},
   "outputs": [],
   "source": [
    "dataset_IA[cols_to_use]= imputer.transform(dataset_IA[cols_to_use])"
   ]
  },
  {
   "cell_type": "code",
   "execution_count": 25,
   "metadata": {},
   "outputs": [],
   "source": [
    "dataset_IA.drop('LotFrontage_313', axis=1, inplace=True)\n"
   ]
  },
  {
   "cell_type": "code",
   "execution_count": 26,
   "metadata": {},
   "outputs": [],
   "source": [
    "dataset_IA.drop('LotFrontage_21', axis=1, inplace=True)"
   ]
  },
  {
   "cell_type": "code",
   "execution_count": 27,
   "metadata": {},
   "outputs": [
    {
     "data": {
      "text/plain": [
       "SalePrice       0.0\n",
       "OverallQual     0.0\n",
       "1stFlrSF        0.0\n",
       "TotRmsAbvGrd    0.0\n",
       "YearBuilt       0.0\n",
       "LotFrontage     0.0\n",
       "dtype: float64"
      ]
     },
     "execution_count": 27,
     "metadata": {},
     "output_type": "execute_result"
    }
   ],
   "source": [
    "#Comprobacion de la eliminacion de los valores Faltantes\n",
    "dataset_IA.isnull().mean()"
   ]
  },
  {
   "cell_type": "markdown",
   "metadata": {},
   "source": [
    "Revisamos si existen variables categóricas en nuestro dataset."
   ]
  },
  {
   "cell_type": "code",
   "execution_count": 28,
   "metadata": {},
   "outputs": [],
   "source": [
    "def getCategoryVars(df):\n",
    "    colnames = df.columns\n",
    "    cat_cols = []\n",
    "    for col in colnames:\n",
    "        if(df[col].dtype == 'object'):\n",
    "            cat_cols.append(col)\n",
    "    return cat_cols"
   ]
  },
  {
   "cell_type": "code",
   "execution_count": 29,
   "metadata": {},
   "outputs": [],
   "source": [
    "cat_cols = getCategoryVars(dataset_IA)"
   ]
  },
  {
   "cell_type": "markdown",
   "metadata": {},
   "source": [
    "Como se pudo observar el dataset no tiene ninguna variable categórica que codificar."
   ]
  },
  {
   "cell_type": "markdown",
   "metadata": {},
   "source": [
    "# 3. Analisis Exploratorio de los Datos"
   ]
  },
  {
   "cell_type": "markdown",
   "metadata": {},
   "source": [
    "3.1 Para cada variable en dataset calcularemos la media, valor máximo, valor mínimo y la desviación estándar. Tal como se muestra a continuación, utilizaremos la función summary"
   ]
  },
  {
   "cell_type": "code",
   "execution_count": 30,
   "metadata": {},
   "outputs": [
    {
     "data": {
      "text/html": [
       "<div>\n",
       "<style scoped>\n",
       "    .dataframe tbody tr th:only-of-type {\n",
       "        vertical-align: middle;\n",
       "    }\n",
       "\n",
       "    .dataframe tbody tr th {\n",
       "        vertical-align: top;\n",
       "    }\n",
       "\n",
       "    .dataframe thead th {\n",
       "        text-align: right;\n",
       "    }\n",
       "</style>\n",
       "<table border=\"1\" class=\"dataframe\">\n",
       "  <thead>\n",
       "    <tr style=\"text-align: right;\">\n",
       "      <th></th>\n",
       "      <th>SalePrice</th>\n",
       "      <th>OverallQual</th>\n",
       "      <th>1stFlrSF</th>\n",
       "      <th>TotRmsAbvGrd</th>\n",
       "      <th>YearBuilt</th>\n",
       "      <th>LotFrontage</th>\n",
       "    </tr>\n",
       "  </thead>\n",
       "  <tbody>\n",
       "    <tr>\n",
       "      <th>count</th>\n",
       "      <td>1460.000000</td>\n",
       "      <td>1460.000000</td>\n",
       "      <td>1460.000000</td>\n",
       "      <td>1460.000000</td>\n",
       "      <td>1460.000000</td>\n",
       "      <td>1460.000000</td>\n",
       "    </tr>\n",
       "    <tr>\n",
       "      <th>mean</th>\n",
       "      <td>180921.195890</td>\n",
       "      <td>6.099315</td>\n",
       "      <td>1162.626712</td>\n",
       "      <td>6.517808</td>\n",
       "      <td>1971.267808</td>\n",
       "      <td>69.863699</td>\n",
       "    </tr>\n",
       "    <tr>\n",
       "      <th>std</th>\n",
       "      <td>79442.502883</td>\n",
       "      <td>1.382997</td>\n",
       "      <td>386.587738</td>\n",
       "      <td>1.625393</td>\n",
       "      <td>30.202904</td>\n",
       "      <td>22.027677</td>\n",
       "    </tr>\n",
       "    <tr>\n",
       "      <th>min</th>\n",
       "      <td>34900.000000</td>\n",
       "      <td>1.000000</td>\n",
       "      <td>334.000000</td>\n",
       "      <td>2.000000</td>\n",
       "      <td>1872.000000</td>\n",
       "      <td>21.000000</td>\n",
       "    </tr>\n",
       "    <tr>\n",
       "      <th>25%</th>\n",
       "      <td>129975.000000</td>\n",
       "      <td>5.000000</td>\n",
       "      <td>882.000000</td>\n",
       "      <td>5.000000</td>\n",
       "      <td>1954.000000</td>\n",
       "      <td>60.000000</td>\n",
       "    </tr>\n",
       "    <tr>\n",
       "      <th>50%</th>\n",
       "      <td>163000.000000</td>\n",
       "      <td>6.000000</td>\n",
       "      <td>1087.000000</td>\n",
       "      <td>6.000000</td>\n",
       "      <td>1973.000000</td>\n",
       "      <td>69.000000</td>\n",
       "    </tr>\n",
       "    <tr>\n",
       "      <th>75%</th>\n",
       "      <td>214000.000000</td>\n",
       "      <td>7.000000</td>\n",
       "      <td>1391.250000</td>\n",
       "      <td>7.000000</td>\n",
       "      <td>2000.000000</td>\n",
       "      <td>79.000000</td>\n",
       "    </tr>\n",
       "    <tr>\n",
       "      <th>max</th>\n",
       "      <td>755000.000000</td>\n",
       "      <td>10.000000</td>\n",
       "      <td>4692.000000</td>\n",
       "      <td>14.000000</td>\n",
       "      <td>2010.000000</td>\n",
       "      <td>313.000000</td>\n",
       "    </tr>\n",
       "  </tbody>\n",
       "</table>\n",
       "</div>"
      ],
      "text/plain": [
       "           SalePrice  OverallQual     1stFlrSF  TotRmsAbvGrd    YearBuilt  \\\n",
       "count    1460.000000  1460.000000  1460.000000   1460.000000  1460.000000   \n",
       "mean   180921.195890     6.099315  1162.626712      6.517808  1971.267808   \n",
       "std     79442.502883     1.382997   386.587738      1.625393    30.202904   \n",
       "min     34900.000000     1.000000   334.000000      2.000000  1872.000000   \n",
       "25%    129975.000000     5.000000   882.000000      5.000000  1954.000000   \n",
       "50%    163000.000000     6.000000  1087.000000      6.000000  1973.000000   \n",
       "75%    214000.000000     7.000000  1391.250000      7.000000  2000.000000   \n",
       "max    755000.000000    10.000000  4692.000000     14.000000  2010.000000   \n",
       "\n",
       "       LotFrontage  \n",
       "count  1460.000000  \n",
       "mean     69.863699  \n",
       "std      22.027677  \n",
       "min      21.000000  \n",
       "25%      60.000000  \n",
       "50%      69.000000  \n",
       "75%      79.000000  \n",
       "max     313.000000  "
      ]
     },
     "execution_count": 30,
     "metadata": {},
     "output_type": "execute_result"
    }
   ],
   "source": [
    "summary= dataset_IA.describe()\n",
    "summary"
   ]
  },
  {
   "cell_type": "markdown",
   "metadata": {},
   "source": []
  },
  {
   "cell_type": "markdown",
   "metadata": {},
   "source": [
    "3.2 Para cada variable se calculará el rango (peak to peak)"
   ]
  },
  {
   "cell_type": "code",
   "execution_count": 31,
   "metadata": {},
   "outputs": [
    {
     "data": {
      "text/plain": [
       "292.0"
      ]
     },
     "execution_count": 31,
     "metadata": {},
     "output_type": "execute_result"
    }
   ],
   "source": [
    "rango= np.ptp(dataset_IA['LotFrontage'])\n",
    "rango"
   ]
  },
  {
   "cell_type": "code",
   "execution_count": 32,
   "metadata": {},
   "outputs": [
    {
     "data": {
      "text/plain": [
       "9.0"
      ]
     },
     "execution_count": 32,
     "metadata": {},
     "output_type": "execute_result"
    }
   ],
   "source": [
    "rango= np.ptp(dataset_IA['OverallQual'])\n",
    "rango"
   ]
  },
  {
   "cell_type": "code",
   "execution_count": 33,
   "metadata": {},
   "outputs": [
    {
     "data": {
      "text/plain": [
       "4358.0"
      ]
     },
     "execution_count": 33,
     "metadata": {},
     "output_type": "execute_result"
    }
   ],
   "source": [
    "rango= np.ptp(dataset_IA['1stFlrSF'])\n",
    "rango"
   ]
  },
  {
   "cell_type": "code",
   "execution_count": 34,
   "metadata": {},
   "outputs": [
    {
     "data": {
      "text/plain": [
       "12.0"
      ]
     },
     "execution_count": 34,
     "metadata": {},
     "output_type": "execute_result"
    }
   ],
   "source": [
    "rango= np.ptp(dataset_IA['TotRmsAbvGrd'])\n",
    "rango"
   ]
  },
  {
   "cell_type": "code",
   "execution_count": 35,
   "metadata": {},
   "outputs": [
    {
     "data": {
      "text/plain": [
       "138.0"
      ]
     },
     "execution_count": 35,
     "metadata": {},
     "output_type": "execute_result"
    }
   ],
   "source": [
    "rango= np.ptp(dataset_IA['YearBuilt'])\n",
    "rango"
   ]
  },
  {
   "cell_type": "code",
   "execution_count": 36,
   "metadata": {},
   "outputs": [
    {
     "data": {
      "text/plain": [
       "720100.0"
      ]
     },
     "execution_count": 36,
     "metadata": {},
     "output_type": "execute_result"
    }
   ],
   "source": [
    "rango= np.ptp(dataset_IA['SalePrice'])\n",
    "rango"
   ]
  },
  {
   "cell_type": "markdown",
   "metadata": {},
   "source": [
    "3.3 Histograma de las Variables"
   ]
  },
  {
   "cell_type": "code",
   "execution_count": 37,
   "metadata": {},
   "outputs": [
    {
     "data": {
      "text/plain": [
       "<function matplotlib.pyplot.show(close=None, block=None)>"
      ]
     },
     "execution_count": 37,
     "metadata": {},
     "output_type": "execute_result"
    },
    {
     "data": {
      "image/png": "[encoded data removed]",
      "text/plain": [
       "<Figure size 360x360 with 1 Axes>"
      ]
     },
     "metadata": {
      "needs_background": "light"
     },
     "output_type": "display_data"
    }
   ],
   "source": [
    "data1= dataset_IA['LotFrontage']\n",
    "sns.displot(data1, bins= 10, color= \"g\", kde= True)\n",
    "plt.show"
   ]
  },
  {
   "cell_type": "code",
   "execution_count": 38,
   "metadata": {},
   "outputs": [
    {
     "data": {
      "text/plain": [
       "<function matplotlib.pyplot.show(close=None, block=None)>"
      ]
     },
     "execution_count": 38,
     "metadata": {},
     "output_type": "execute_result"
    },
    {
     "data": {
      "image/png": "[encoded data removed]",
      "text/plain": [
       "<Figure size 360x360 with 1 Axes>"
      ]
     },
     "metadata": {
      "needs_background": "light"
     },
     "output_type": "display_data"
    }
   ],
   "source": [
    "data2= dataset_IA['OverallQual']\n",
    "sns.displot(data2, bins= 10, kde= True)\n",
    "plt.show"
   ]
  },
  {
   "cell_type": "code",
   "execution_count": 39,
   "metadata": {},
   "outputs": [
    {
     "data": {
      "text/plain": [
       "<function matplotlib.pyplot.show(close=None, block=None)>"
      ]
     },
     "execution_count": 39,
     "metadata": {},
     "output_type": "execute_result"
    },
    {
     "data": {
      "image/png": "[encoded data removed]",
      "text/plain": [
       "<Figure size 432x288 with 1 Axes>"
      ]
     },
     "metadata": {
      "needs_background": "light"
     },
     "output_type": "display_data"
    }
   ],
   "source": [
    "data3= dataset_IA['1stFlrSF']\n",
    "sns.histplot(data3, bins= 10, color= \"y\", kde= True)\n",
    "plt.show"
   ]
  },
  {
   "cell_type": "code",
   "execution_count": 40,
   "metadata": {},
   "outputs": [
    {
     "data": {
      "text/plain": [
       "<function matplotlib.pyplot.show(close=None, block=None)>"
      ]
     },
     "execution_count": 40,
     "metadata": {},
     "output_type": "execute_result"
    },
    {
     "data": {
      "image/png": "[encoded data removed]",
      "text/plain": [
       "<Figure size 360x360 with 1 Axes>"
      ]
     },
     "metadata": {
      "needs_background": "light"
     },
     "output_type": "display_data"
    }
   ],
   "source": [
    "data4= dataset_IA['TotRmsAbvGrd']\n",
    "sns.displot(data4, bins= 10, kde= True, color= \"g\")\n",
    "plt.show"
   ]
  },
  {
   "cell_type": "code",
   "execution_count": 41,
   "metadata": {},
   "outputs": [
    {
     "data": {
      "text/plain": [
       "<function matplotlib.pyplot.show(close=None, block=None)>"
      ]
     },
     "execution_count": 41,
     "metadata": {},
     "output_type": "execute_result"
    },
    {
     "data": {
      "image/png": "[encoded data removed]",
      "text/plain": [
       "<Figure size 360x360 with 1 Axes>"
      ]
     },
     "metadata": {
      "needs_background": "light"
     },
     "output_type": "display_data"
    }
   ],
   "source": [
    "data5= dataset_IA['YearBuilt']\n",
    "sns.displot(data5, bins= 10, kde= True)\n",
    "plt.show"
   ]
  },
  {
   "cell_type": "code",
   "execution_count": 42,
   "metadata": {},
   "outputs": [
    {
     "name": "stderr",
     "output_type": "stream",
     "text": [
      "c:\\Users\\sandy\\anaconda3\\lib\\site-packages\\seaborn\\distributions.py:2619: FutureWarning: `distplot` is a deprecated function and will be removed in a future version. Please adapt your code to use either `displot` (a figure-level function with similar flexibility) or `histplot` (an axes-level function for histograms).\n",
      "  warnings.warn(msg, FutureWarning)\n"
     ]
    },
    {
     "data": {
      "text/plain": [
       "<function matplotlib.pyplot.show(close=None, block=None)>"
      ]
     },
     "execution_count": 42,
     "metadata": {},
     "output_type": "execute_result"
    },
    {
     "data": {
      "image/png": "[encoded data removed]",
      "text/plain": [
       "<Figure size 432x288 with 1 Axes>"
      ]
     },
     "metadata": {
      "needs_background": "light"
     },
     "output_type": "display_data"
    }
   ],
   "source": [
    "data5= dataset_IA['SalePrice']\n",
    "sns.distplot(data5, bins= 15,  color= \"g\", kde= True)\n",
    "plt.show"
   ]
  },
  {
   "cell_type": "markdown",
   "metadata": {},
   "source": [
    "# Paso 4.  Graficas de Correlacion \n",
    "5.1 Calculo del Coeficiente de correlación entre cada variable x y variable y (SalePrice)"
   ]
  },
  {
   "cell_type": "code",
   "execution_count": 43,
   "metadata": {},
   "outputs": [
    {
     "data": {
      "text/html": [
       "<div>\n",
       "<style scoped>\n",
       "    .dataframe tbody tr th:only-of-type {\n",
       "        vertical-align: middle;\n",
       "    }\n",
       "\n",
       "    .dataframe tbody tr th {\n",
       "        vertical-align: top;\n",
       "    }\n",
       "\n",
       "    .dataframe thead th {\n",
       "        text-align: right;\n",
       "    }\n",
       "</style>\n",
       "<table border=\"1\" class=\"dataframe\">\n",
       "  <thead>\n",
       "    <tr style=\"text-align: right;\">\n",
       "      <th></th>\n",
       "      <th>OverallQual</th>\n",
       "      <th>1stFlrSF</th>\n",
       "      <th>TotRmsAbvGrd</th>\n",
       "      <th>YearBuilt</th>\n",
       "      <th>LotFrontage</th>\n",
       "    </tr>\n",
       "  </thead>\n",
       "  <tbody>\n",
       "    <tr>\n",
       "      <th>Correlacion Precios_de_Venta</th>\n",
       "      <td>0.790982</td>\n",
       "      <td>0.605852</td>\n",
       "      <td>0.533723</td>\n",
       "      <td>0.522897</td>\n",
       "      <td>0.334771</td>\n",
       "    </tr>\n",
       "  </tbody>\n",
       "</table>\n",
       "</div>"
      ],
      "text/plain": [
       "                              OverallQual  1stFlrSF  TotRmsAbvGrd  YearBuilt  \\\n",
       "Correlacion Precios_de_Venta     0.790982  0.605852      0.533723   0.522897   \n",
       "\n",
       "                              LotFrontage  \n",
       "Correlacion Precios_de_Venta     0.334771  "
      ]
     },
     "execution_count": 43,
     "metadata": {},
     "output_type": "execute_result"
    }
   ],
   "source": [
    "#Correlacion Variable  ~ SalePrice\n",
    "CF_df= dataset_IA[['OverallQual', '1stFlrSF', 'TotRmsAbvGrd', 'YearBuilt', 'LotFrontage', 'SalePrice']]\n",
    "CF_df= CF_df[~ CF_df['SalePrice'].isnull()]\n",
    "CF_vars = list(CF_df)\n",
    "del CF_vars[-1]\n",
    "summary= []\n",
    "for CF_type in CF_vars:\n",
    "    corr_val = np.corrcoef(CF_df[CF_type], CF_df['SalePrice'])[1][0]\n",
    "    summary.append(corr_val)\n",
    "\n",
    "pd.DataFrame([summary], columns=CF_vars, index=['Correlacion Precios_de_Venta'])"
   ]
  },
  {
   "cell_type": "code",
   "execution_count": 44,
   "metadata": {},
   "outputs": [
    {
     "data": {
      "text/plain": [
       "<AxesSubplot:>"
      ]
     },
     "execution_count": 44,
     "metadata": {},
     "output_type": "execute_result"
    },
    {
     "data": {
      "image/png": "[encoded data removed]",
      "text/plain": [
       "<Figure size 432x288 with 2 Axes>"
      ]
     },
     "metadata": {
      "needs_background": "light"
     },
     "output_type": "display_data"
    }
   ],
   "source": [
    "# Matriz de Correlacion\n",
    "corrmat = dataset_IA.corr().round(2)\n",
    "sns.heatmap(data=corrmat, annot=True)"
   ]
  },
  {
   "cell_type": "markdown",
   "metadata": {},
   "source": [
    "5.2  Graficar Scatterplot entre cada variable X y Variable y"
   ]
  },
  {
   "cell_type": "code",
   "execution_count": 45,
   "metadata": {},
   "outputs": [
    {
     "data": {
      "image/png": "[encoded data removed]",
      "text/plain": [
       "<Figure size 432x288 with 1 Axes>"
      ]
     },
     "metadata": {
      "needs_background": "light"
     },
     "output_type": "display_data"
    }
   ],
   "source": [
    "import matplotlib.pyplot as plt\n",
    "x= dataset_IA['LotFrontage']\n",
    "y= dataset_IA['SalePrice']\n",
    "plt.scatter(x, y, color='b', marker='*')\n",
    "plt.xlabel(\"LotFrontage\")\n",
    "plt.ylabel(\"SalePrice\")\n",
    "plt.title(\"Correlacion Precio de Ventas Vs. LotFrontage\")\n",
    "plt.show()"
   ]
  },
  {
   "cell_type": "code",
   "execution_count": 46,
   "metadata": {},
   "outputs": [
    {
     "data": {
      "image/png": "[encoded data removed]",
      "text/plain": [
       "<Figure size 432x288 with 1 Axes>"
      ]
     },
     "metadata": {
      "needs_background": "light"
     },
     "output_type": "display_data"
    }
   ],
   "source": [
    "x= dataset_IA['1stFlrSF']\n",
    "y= dataset_IA['SalePrice']\n",
    "plt.scatter(x, y, color='b', marker='*')\n",
    "plt.xlabel(\"1stFlrSF\")\n",
    "plt.ylabel(\"SalePrice\")\n",
    "plt.title(\"Correlacion Precio de Ventas Vs. 1stFlrSF\")\n",
    "plt.show()"
   ]
  },
  {
   "cell_type": "code",
   "execution_count": 47,
   "metadata": {},
   "outputs": [
    {
     "data": {
      "image/png": "[encoded data removed]",
      "text/plain": [
       "<Figure size 432x288 with 1 Axes>"
      ]
     },
     "metadata": {
      "needs_background": "light"
     },
     "output_type": "display_data"
    }
   ],
   "source": [
    "x= dataset_IA['OverallQual']\n",
    "y= dataset_IA['SalePrice']\n",
    "plt.scatter(x, y, color='b', marker='*')\n",
    "plt.xlabel(\"OverallQual\")\n",
    "plt.ylabel(\"SalePrice\")\n",
    "plt.title(\"Correlacion Precio de Ventas Vs. OverallQual\")\n",
    "plt.show()"
   ]
  },
  {
   "cell_type": "code",
   "execution_count": 48,
   "metadata": {},
   "outputs": [
    {
     "data": {
      "image/png": "[encoded data removed]",
      "text/plain": [
       "<Figure size 432x288 with 1 Axes>"
      ]
     },
     "metadata": {
      "needs_background": "light"
     },
     "output_type": "display_data"
    }
   ],
   "source": [
    "x= dataset_IA['TotRmsAbvGrd']\n",
    "y= dataset_IA['SalePrice']\n",
    "plt.scatter(x, y, color='b', marker='*')\n",
    "plt.xlabel(\"TotRmsAbvGrd\")\n",
    "plt.ylabel(\"SalePrice\")\n",
    "plt.title(\"Correlacion Precio de Ventas Vs. TotRmsAbvGrd\")\n",
    "plt.show()"
   ]
  },
  {
   "cell_type": "code",
   "execution_count": 49,
   "metadata": {},
   "outputs": [
    {
     "data": {
      "image/png": "[encoded data removed]",
      "text/plain": [
       "<Figure size 432x288 with 1 Axes>"
      ]
     },
     "metadata": {
      "needs_background": "light"
     },
     "output_type": "display_data"
    }
   ],
   "source": [
    "x= dataset_IA['YearBuilt']\n",
    "y= dataset_IA['SalePrice']\n",
    "plt.scatter(x, y, color='b', marker='*')\n",
    "plt.xlabel(\"YearBuilt\")\n",
    "plt.ylabel(\"SalePrice\")\n",
    "plt.title(\"Correlacion Precio de Ventas Vs. YearBuilt\")\n",
    "plt.show()"
   ]
  },
  {
   "cell_type": "markdown",
   "metadata": {},
   "source": [
    "Al observar las graficas y la matriz de correlacion se puede observar que las variables con mas potencial predictivo son OverallQual y 1stFlrSF\n",
    "ya que presentan mayor correlacion entre la variable y la dependiente en este caso SalePrice. Estas dos variables se utilizarán para el modelo predictivo del Precio de Venta."
   ]
  },
  {
   "cell_type": "markdown",
   "metadata": {},
   "source": [
    "# Paso 5. Splitting\n",
    "Se divide el set de datos en Set de Entrenamiento y Set de Prueba, esta es una práctica común para algoritmos de aprendizaje supervisado. Train/Test es un método para medir la precisión del modelo, para este proyecto se utilizará 80% para entrenamiento y 20% para evaluar el modelo. "
   ]
  },
  {
   "cell_type": "code",
   "execution_count": 50,
   "metadata": {},
   "outputs": [],
   "source": [
    "X= dataset_IA[['OverallQual', '1stFlrSF', 'TotRmsAbvGrd', 'YearBuilt', 'LotFrontage']]\n",
    "y= dataset_IA[['SalePrice']]"
   ]
  },
  {
   "cell_type": "code",
   "execution_count": 51,
   "metadata": {},
   "outputs": [],
   "source": [
    "#Split data into training and test data\n",
    "train_x, test_X, train_y, test_y= train_test_split(X,y,\n",
    "                                    train_size= 0.8,\n",
    "                                    test_size= 0.2, random_state= 42 )"
   ]
  },
  {
   "cell_type": "code",
   "execution_count": 52,
   "metadata": {},
   "outputs": [
    {
     "name": "stdout",
     "output_type": "stream",
     "text": [
      "\n",
      "(1168, 5)\n",
      "\n",
      "(1168, 1)\n",
      "\n",
      "(292, 5)\n",
      "\n",
      "(292, 1)\n"
     ]
    }
   ],
   "source": [
    "#Print Training and Test Sets\n",
    "print(); print(train_x.shape)\n",
    "print(); print(train_y.shape)\n",
    "print(); print(test_X.shape)\n",
    "print(); print(test_y.shape)"
   ]
  },
  {
   "cell_type": "code",
   "execution_count": 53,
   "metadata": {},
   "outputs": [
    {
     "name": "stdout",
     "output_type": "stream",
     "text": [
      "(1168, 5)\n"
     ]
    }
   ],
   "source": [
    "print(train_x.shape)"
   ]
  },
  {
   "cell_type": "code",
   "execution_count": 54,
   "metadata": {},
   "outputs": [
    {
     "data": {
      "text/html": [
       "<div>\n",
       "<style scoped>\n",
       "    .dataframe tbody tr th:only-of-type {\n",
       "        vertical-align: middle;\n",
       "    }\n",
       "\n",
       "    .dataframe tbody tr th {\n",
       "        vertical-align: top;\n",
       "    }\n",
       "\n",
       "    .dataframe thead th {\n",
       "        text-align: right;\n",
       "    }\n",
       "</style>\n",
       "<table border=\"1\" class=\"dataframe\">\n",
       "  <thead>\n",
       "    <tr style=\"text-align: right;\">\n",
       "      <th></th>\n",
       "      <th>SalePrice</th>\n",
       "    </tr>\n",
       "  </thead>\n",
       "  <tbody>\n",
       "    <tr>\n",
       "      <th>254</th>\n",
       "      <td>145000.0</td>\n",
       "    </tr>\n",
       "    <tr>\n",
       "      <th>1066</th>\n",
       "      <td>178000.0</td>\n",
       "    </tr>\n",
       "    <tr>\n",
       "      <th>638</th>\n",
       "      <td>85000.0</td>\n",
       "    </tr>\n",
       "    <tr>\n",
       "      <th>799</th>\n",
       "      <td>175000.0</td>\n",
       "    </tr>\n",
       "    <tr>\n",
       "      <th>380</th>\n",
       "      <td>127000.0</td>\n",
       "    </tr>\n",
       "  </tbody>\n",
       "</table>\n",
       "</div>"
      ],
      "text/plain": [
       "      SalePrice\n",
       "254    145000.0\n",
       "1066   178000.0\n",
       "638     85000.0\n",
       "799    175000.0\n",
       "380    127000.0"
      ]
     },
     "execution_count": 54,
     "metadata": {},
     "output_type": "execute_result"
    }
   ],
   "source": [
    "train_y.head()"
   ]
  },
  {
   "cell_type": "markdown",
   "metadata": {},
   "source": [
    "# Paso 6. Funcion para entrenar el modelo de Regresion lineal de la variable OverallQual"
   ]
  },
  {
   "cell_type": "code",
   "execution_count": 55,
   "metadata": {},
   "outputs": [
    {
     "name": "stdout",
     "output_type": "stream",
     "text": [
      "Beta0:  2.975800043890722e+161\n",
      "Beta1:  1.9102485611901245e+162\n"
     ]
    }
   ],
   "source": [
    "x = train_x['OverallQual']\n",
    "y = train_y['SalePrice']\n",
    "epochs = 99\n",
    "imprimir_error_cada = 10 \n",
    "learning_rate = 1\n",
    "\n",
    "unos = np.ones(np.shape(x)).reshape(-1,1)\n",
    "x = x.to_numpy().reshape(-1,1)\n",
    "A = np.hstack([x, unos])\n",
    "errores = []\n",
    "b0 = 10\n",
    "b1 = 20\n",
    "\n",
    "for i in range(epochs):\n",
    "    betas = np.array([b1,b0]).reshape(-1,1)\n",
    "    yEstimado = np.matmul(A, betas) # Evaluamos el modelo con los betas default.\n",
    "\n",
    "#Calculamos el gradientes de B0 y B1\n",
    "    gradienteB0 = np.mean(yEstimado - y.to_numpy())\n",
    "    gradienteB1 = np.mean((yEstimado - y.to_numpy())*x)\n",
    "\n",
    "#Calculamos el valor de B0 y B1\n",
    "    b0 = b0 - learning_rate*gradienteB0\n",
    "    b1 = b1 - learning_rate*gradienteB1\n",
    "\n",
    "#Error del costo\n",
    "    if((i % imprimir_error_cada) == 0):\n",
    "           errores.append(np.mean((yEstimado - y.to_numpy())**2)*1/2)\n",
    "    \n",
    "       \n",
    "       # return b0, b1, errores\n",
    "    \n",
    "    \n",
    "print(\"Beta0: \", b0)\n",
    "print(\"Beta1: \", b1)"
   ]
  },
  {
   "cell_type": "code",
   "execution_count": 56,
   "metadata": {},
   "outputs": [
    {
     "data": {
      "text/plain": [
       "[19418772328.857334,\n",
       " 1.2096078543815498e+42,\n",
       " 9.324623099673647e+73,\n",
       " 7.18816396867912e+105,\n",
       " 5.541210694341627e+137,\n",
       " 4.271607616753972e+169,\n",
       " 3.292896198685059e+201,\n",
       " 2.5384272967362003e+233,\n",
       " 1.9568224298684306e+265,\n",
       " 1.5084749628084956e+297]"
      ]
     },
     "execution_count": 56,
     "metadata": {},
     "output_type": "execute_result"
    }
   ],
   "source": [
    "errores"
   ]
  },
  {
   "cell_type": "markdown",
   "metadata": {},
   "source": [
    "# Paso 7: Modelo mediante Sklearn"
   ]
  },
  {
   "cell_type": "code",
   "execution_count": 57,
   "metadata": {},
   "outputs": [],
   "source": [
    "X = dataset_IA[['OverallQual']]\n",
    "y = dataset_IA['SalePrice']\n",
    "\n",
    "X_train, X_test, Y_train, Y_test = train_test_split(\n",
    "                                        X.values.reshape(-1,1),\n",
    "                                        y.values.reshape(-1,1),\n",
    "                                        train_size   = 0.8,\n",
    "                                        random_state = 42,\n",
    "                                        shuffle      = True\n",
    "                                    )"
   ]
  },
  {
   "cell_type": "code",
   "execution_count": 58,
   "metadata": {},
   "outputs": [
    {
     "data": {
      "text/plain": [
       "LinearRegression()"
      ]
     },
     "execution_count": 58,
     "metadata": {},
     "output_type": "execute_result"
    }
   ],
   "source": [
    "\n",
    "from sklearn.linear_model import LinearRegression\n",
    "from sklearn.metrics import mean_squared_error\n",
    "from sklearn.metrics import r2_score\n",
    "lin_model = LinearRegression()\n",
    "lin_model.fit( X = X_train.reshape(-1,1) , y= Y_train)"
   ]
  },
  {
   "cell_type": "code",
   "execution_count": 59,
   "metadata": {},
   "outputs": [
    {
     "name": "stdout",
     "output_type": "stream",
     "text": [
      "Intercept: [-90233.22290028]\n",
      "Coeficiente: [('OverallQual', 44379.877670982925)]\n"
     ]
    }
   ],
   "source": [
    "print(\"Intercept:\", lin_model.intercept_)\n",
    "print(\"Coeficiente:\", list(zip(X.columns, lin_model.coef_.flatten(), )))\n"
   ]
  },
  {
   "cell_type": "code",
   "execution_count": 60,
   "metadata": {},
   "outputs": [],
   "source": [
    "#Evaluacion del Modelo con la data de entrenamiento\n",
    "train_y_predict = lin_model.predict(X_train)\n",
    "rmse = (np.sqrt(mean_squared_error(Y_train, train_y_predict)))\n",
    "r2 = r2_score(Y_train, train_y_predict)\n"
   ]
  },
  {
   "cell_type": "code",
   "execution_count": 61,
   "metadata": {},
   "outputs": [
    {
     "name": "stdout",
     "output_type": "stream",
     "text": [
      "El resultado del modelo para los datos de entrenamiento es:\n",
      "--------------------------------------\n",
      "RMSE es 47789.62867359156\n",
      "R2  es 0.6170962665508342\n",
      "\n",
      "\n"
     ]
    }
   ],
   "source": [
    "print(\"El resultado del modelo para los datos de entrenamiento es:\")\n",
    "print(\"--------------------------------------\")\n",
    "print('RMSE es {}'.format(rmse))\n",
    "print('R2  es {}'.format(r2))\n",
    "print(\"\\n\")"
   ]
  },
  {
   "cell_type": "code",
   "execution_count": 62,
   "metadata": {},
   "outputs": [],
   "source": [
    "#Evaluacion del modelo con los datos de Testeo\n",
    "test_y_predict = lin_model.predict(X_test)\n",
    "rmse = (np.sqrt(mean_squared_error(Y_test, test_y_predict)))\n",
    "r2 = r2_score(test_y, test_y_predict)\n"
   ]
  },
  {
   "cell_type": "code",
   "execution_count": 63,
   "metadata": {},
   "outputs": [
    {
     "name": "stdout",
     "output_type": "stream",
     "text": [
      "El resultado del modelo para los datos de testeo es:\n",
      "--------------------------------------\n",
      "RMSE es 51778.62651238531\n",
      "R2  es 0.6504677778896862\n",
      "\n",
      "\n"
     ]
    }
   ],
   "source": [
    "print(\"El resultado del modelo para los datos de testeo es:\")\n",
    "print(\"--------------------------------------\")\n",
    "print('RMSE es {}'.format(rmse))\n",
    "print('R2  es {}'.format(r2))\n",
    "print(\"\\n\")"
   ]
  },
  {
   "cell_type": "markdown",
   "metadata": {},
   "source": [
    "# Funcion para la Variable '1stFlrSF'"
   ]
  },
  {
   "cell_type": "code",
   "execution_count": 64,
   "metadata": {},
   "outputs": [
    {
     "name": "stdout",
     "output_type": "stream",
     "text": [
      "Beta0:  3.596210376132685e+153\n",
      "Beta1:  4.6646747017720125e+156\n"
     ]
    }
   ],
   "source": [
    "x = train_x['1stFlrSF']\n",
    "y = train_y['SalePrice']\n",
    "epochs = 25\n",
    "imprimir_error_cada = 10 \n",
    "learning_rate = 1\n",
    "\n",
    "unos = np.ones(np.shape(x)).reshape(-1,1)\n",
    "x = x.to_numpy().reshape(-1,1)\n",
    "A = np.hstack([x, unos])\n",
    "errores = []\n",
    "b0 = 0\n",
    "b1 = 0\n",
    "\n",
    "for i in range(epochs):\n",
    "    betas = np.array([b1,b0]).reshape(-1,1)\n",
    "    yEstimado = np.matmul(A, betas) # Evaluamos el modelo con los betas default.\n",
    "\n",
    "#Calculamos el gradientes de B0 y B1\n",
    "    gradienteB0 = np.mean(yEstimado - y.to_numpy())\n",
    "    gradienteB1 = np.mean((yEstimado - y.to_numpy())*x)\n",
    "\n",
    "#Calculamos el valor de B0 y B1\n",
    "    b0 = b0 - learning_rate*gradienteB0\n",
    "    b1 = b1 - learning_rate*gradienteB1\n",
    "\n",
    "#Error del costo\n",
    "    if((i % imprimir_error_cada) == 0):\n",
    "           errores.append(np.mean((yEstimado - y.to_numpy())**2)*1/2)\n",
    "    \n",
    "       \n",
    "       # return b0, b1, errores\n",
    "    \n",
    "    \n",
    "print(\"Beta0: \", b0)\n",
    "print(\"Beta1: \", b1)"
   ]
  },
  {
   "cell_type": "code",
   "execution_count": 65,
   "metadata": {},
   "outputs": [
    {
     "data": {
      "text/plain": [
       "[19442791762.85489, 6.16399562564059e+133, 2.5604202590031437e+257]"
      ]
     },
     "execution_count": 65,
     "metadata": {},
     "output_type": "execute_result"
    }
   ],
   "source": [
    "errores"
   ]
  },
  {
   "cell_type": "markdown",
   "metadata": {},
   "source": [
    "# Modelo Sklearn Variable 1stFlrSF"
   ]
  },
  {
   "cell_type": "code",
   "execution_count": 66,
   "metadata": {},
   "outputs": [],
   "source": [
    "X1 = dataset_IA[['1stFlrSF']]\n",
    "Y1 = dataset_IA['SalePrice']\n",
    "\n",
    "xtrain, xtest, ytrain, ytest = train_test_split(\n",
    "                                        X1.values.reshape(-1,1),\n",
    "                                        Y1.values.reshape(-1,1),\n",
    "                                        train_size   = 0.8,\n",
    "                                        random_state = 42,\n",
    "                                        shuffle      = True\n",
    "                                    )"
   ]
  },
  {
   "cell_type": "code",
   "execution_count": 67,
   "metadata": {},
   "outputs": [
    {
     "data": {
      "text/plain": [
       "LinearRegression()"
      ]
     },
     "execution_count": 67,
     "metadata": {},
     "output_type": "execute_result"
    }
   ],
   "source": [
    "lin_model2 = LinearRegression()\n",
    "lin_model2.fit( X = xtrain.reshape(-1,1) , y= ytrain)"
   ]
  },
  {
   "cell_type": "code",
   "execution_count": 68,
   "metadata": {},
   "outputs": [
    {
     "name": "stdout",
     "output_type": "stream",
     "text": [
      "Intercept: [44079.78895634]\n",
      "Coeficiente: [('1stFlrSF', 117.46802071376966)]\n"
     ]
    }
   ],
   "source": [
    "print(\"Intercept:\", lin_model2.intercept_)\n",
    "print(\"Coeficiente:\", list(zip(X1.columns, lin_model2.coef_.flatten(), )))"
   ]
  },
  {
   "cell_type": "code",
   "execution_count": 69,
   "metadata": {},
   "outputs": [],
   "source": [
    "#Evaluacion del Modelo con la data de entrenamiento\n",
    "train_y_predict2 = lin_model2.predict(xtrain)\n",
    "rmse = (np.sqrt(mean_squared_error(ytrain, train_y_predict2)))\n",
    "r2 = r2_score(ytrain, train_y_predict2)"
   ]
  },
  {
   "cell_type": "code",
   "execution_count": 70,
   "metadata": {},
   "outputs": [
    {
     "name": "stdout",
     "output_type": "stream",
     "text": [
      "El resultado del modelo para los datos de entrenamiento es:\n",
      "--------------------------------------\n",
      "RMSE es 62475.2803910285\n",
      "R2  es 0.34560689215138896\n",
      "\n",
      "\n"
     ]
    }
   ],
   "source": [
    "print(\"El resultado del modelo para los datos de entrenamiento es:\")\n",
    "print(\"--------------------------------------\")\n",
    "print('RMSE es {}'.format(rmse))\n",
    "print('R2  es {}'.format(r2))\n",
    "print(\"\\n\")"
   ]
  }
 ],
 "metadata": {
  "interpreter": {
   "hash": "c90410bef4ff76c87f29b41da2a16b47102a4b86cf713621be805a2ff9d0ec3f"
  },
  "kernelspec": {
   "display_name": "Python 3.9.7",
   "language": "python",
   "name": "python3"
  },
  "language_info": {
   "codemirror_mode": {
    "name": "ipython",
    "version": 3
   },
   "file_extension": ".py",
   "mimetype": "text/x-python",
   "name": "python",
   "nbconvert_exporter": "python",
   "pygments_lexer": "ipython3",
   "version": "3.9.7"
  },
  "orig_nbformat": 4
 },
 "nbformat": 4,
 "nbformat_minor": 2
}
